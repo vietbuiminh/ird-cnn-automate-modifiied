{
 "cells": [
  {
   "cell_type": "code",
   "execution_count": null,
   "metadata": {},
   "outputs": [],
   "source": [
    "# I packaged most of the function from the notebook to this LoadCnnLabelImage object.\n",
    "import LoadCnnLabelImage as li\n",
    "\n",
    "# regular stuff to read from the os system\n",
    "import os\n",
    "import glob"
   ]
  },
  {
   "cell_type": "code",
   "execution_count": null,
   "metadata": {},
   "outputs": [],
   "source": [
    "\n",
    "\n",
    "im_folder_path = '/ADD/YOUR/IMAGE/PATH/HERE'\n",
    "im_type = 'JPG'\n",
    "im_files = glob.glob(os.path.join(im_folder_path, f'*.{im_type}'))\n",
    "\n",
    "# example for the loop\n",
    "# Viet: I was trying to test this but I dont have CUDA on my computer to do this.\n",
    "# make sure you set up the conda environment from the read me. If you run into issue, we might need to work it out.\n",
    "for each_im_path in im_files:\n",
    "    process_im = LoadCnnLabelImage(each_im_path)\n",
    "    process_im.label_and_plot()\n",
    "\n"
   ]
  },
  {
   "cell_type": "code",
   "execution_count": null,
   "metadata": {},
   "outputs": [],
   "source": []
  }
 ],
 "metadata": {
  "kernelspec": {
   "display_name": "base",
   "language": "python",
   "name": "python3"
  },
  "language_info": {
   "codemirror_mode": {
    "name": "ipython",
    "version": 3
   },
   "file_extension": ".py",
   "mimetype": "text/x-python",
   "name": "python",
   "nbconvert_exporter": "python",
   "pygments_lexer": "ipython3",
   "version": "3.10.13"
  }
 },
 "nbformat": 4,
 "nbformat_minor": 2
}
